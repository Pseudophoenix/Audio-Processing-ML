{
 "cells": [
  {
   "cell_type": "code",
   "execution_count": 1,
   "id": "5f95744c",
   "metadata": {},
   "outputs": [],
   "source": [
    "import matplotlib.pyplot as plt\n",
    "%matplotlib inline"
   ]
  },
  {
   "cell_type": "code",
   "execution_count": 7,
   "id": "ed242787",
   "metadata": {},
   "outputs": [],
   "source": [
    "from soundata.datasets.urbansound8k import Dataset"
   ]
  },
  {
   "cell_type": "code",
   "execution_count": 3,
   "id": "cf28e9b2",
   "metadata": {},
   "outputs": [],
   "source": [
    "filename='UrbanSound8K/dog_bark.wav'"
   ]
  },
  {
   "cell_type": "code",
   "execution_count": 4,
   "id": "997d7fcf",
   "metadata": {},
   "outputs": [],
   "source": [
    "import IPython.display as ipd\n",
    "import librosa\n",
    "import librosa.display"
   ]
  },
  {
   "cell_type": "code",
   "execution_count": 5,
   "id": "abba9989",
   "metadata": {},
   "outputs": [
    {
     "name": "stdout",
     "output_type": "stream",
     "text": [
      " Volume in drive C is Local Disk\n",
      " Volume Serial Number is C2C6-9F78\n",
      "\n",
      " Directory of c:\\Users\\alok4\\Desktop\\Audio-Processing-ML\n",
      "\n",
      "08/25/2025  10:11 PM    <DIR>          .\n",
      "08/24/2025  01:31 AM    <DIR>          ..\n",
      "08/24/2025  12:50 AM             4,938 .gitignore\n",
      "08/23/2025  11:47 PM                 5 .python-version\n",
      "08/23/2025  11:51 PM    <DIR>          .venv\n",
      "08/23/2025  10:31 PM                53 api_secrets.py\n",
      "08/25/2025  10:12 PM             1,208 audio_classification.ipynb\n",
      "08/11/2025  05:02 PM    <DIR>          audio_resources\n",
      "08/24/2025  12:35 AM    <DIR>          Dataset\n",
      "08/11/2025  04:38 PM         4,832,123 intensity-timbre.ipynb\n",
      "08/23/2025  10:21 PM               269 load_mp3.py\n",
      "08/23/2025  10:07 PM                97 main.py\n",
      "08/23/2025  10:14 PM           160,044 output.wav\n",
      "08/25/2025  09:50 PM               382 pyproject.toml\n",
      "08/11/2025  04:23 PM                21 README.md\n",
      "08/23/2025  10:12 PM               704 record_mic.py\n",
      "08/23/2025  11:49 PM                 0 requirements.txt\n",
      "08/25/2025  09:53 PM    <DIR>          results\n",
      "08/16/2025  03:43 PM    <DIR>          RVC\n",
      "08/23/2025  11:13 PM             1,824 simpleAI_transcript.py\n",
      "08/25/2025  10:02 PM           448,750 speech_emotion_recognition.ipynb\n",
      "08/25/2025  09:50 PM           420,458 uv.lock\n",
      "08/23/2025  10:36 PM    <DIR>          __pycache__\n",
      "              15 File(s)      5,870,876 bytes\n",
      "               8 Dir(s)  204,870,418,432 bytes free\n"
     ]
    }
   ],
   "source": [
    "!dir"
   ]
  },
  {
   "cell_type": "code",
   "execution_count": null,
   "id": "34991e1c",
   "metadata": {},
   "outputs": [],
   "source": [
    "plt.figure(figsize=(14,5))\n",
    "data,sample_rate=librosa.load(filename)"
   ]
  }
 ],
 "metadata": {
  "kernelspec": {
   "display_name": "audio-processing-ml (3.10.18)",
   "language": "python",
   "name": "python3"
  },
  "language_info": {
   "codemirror_mode": {
    "name": "ipython",
    "version": 3
   },
   "file_extension": ".py",
   "mimetype": "text/x-python",
   "name": "python",
   "nbconvert_exporter": "python",
   "pygments_lexer": "ipython3",
   "version": "3.10.18"
  }
 },
 "nbformat": 4,
 "nbformat_minor": 5
}
