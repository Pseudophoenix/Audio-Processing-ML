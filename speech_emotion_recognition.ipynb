{
 "cells": [
  {
   "cell_type": "code",
   "execution_count": 1,
   "id": "4eabea0f",
   "metadata": {},
   "outputs": [],
   "source": [
    "import pandas as pd, numpy as np, os, seaborn as sns, librosa\n",
    "import matplotlib.pyplot as plt"
   ]
  },
  {
   "cell_type": "code",
   "execution_count": 2,
   "id": "b01b4631",
   "metadata": {},
   "outputs": [
    {
     "ename": "ModuleNotFoundError",
     "evalue": "No module named 'torchaudio'",
     "output_type": "error",
     "traceback": [
      "\u001b[1;31m---------------------------------------------------------------------------\u001b[0m",
      "\u001b[1;31mModuleNotFoundError\u001b[0m                       Traceback (most recent call last)",
      "Cell \u001b[1;32mIn[2], line 1\u001b[0m\n\u001b[1;32m----> 1\u001b[0m \u001b[38;5;28;01mimport\u001b[39;00m\u001b[38;5;250m \u001b[39m\u001b[38;5;21;01mtorchaudio\u001b[39;00m\n",
      "\u001b[1;31mModuleNotFoundError\u001b[0m: No module named 'torchaudio'"
     ]
    }
   ],
   "source": [
    "import torchaudio\n"
   ]
  },
  {
   "cell_type": "markdown",
   "id": "936f534a",
   "metadata": {},
   "source": [
    "### Dataset-> Toronto Emotional Speech dataset"
   ]
  },
  {
   "cell_type": "code",
   "execution_count": null,
   "id": "058893bb",
   "metadata": {},
   "outputs": [],
   "source": [
    "paths=[]\n",
    "labels=[]\n",
    "for dirname, _, filenames in os.walk('/path'):\n",
    "    for filename in filenames:\n",
    "        paths.appned(os.path.join(dirname,filename))\n",
    "        label=filename.split('_')[-1]\n",
    "        label=label.split('.')[0]\n",
    "        labels.append(label.lower())\n",
    "    if len(paths)==2800:\n",
    "        break\n",
    "print('Dataset loaded')\n"
   ]
  },
  {
   "cell_type": "code",
   "execution_count": null,
   "id": "0c232307",
   "metadata": {},
   "outputs": [],
   "source": [
    "len(paths)"
   ]
  },
  {
   "cell_type": "code",
   "execution_count": null,
   "id": "c206210a",
   "metadata": {},
   "outputs": [],
   "source": [
    "labels[:5]"
   ]
  },
  {
   "cell_type": "code",
   "execution_count": null,
   "id": "dc035f00",
   "metadata": {},
   "outputs": [],
   "source": [
    "df=pd.DataFrame()"
   ]
  },
  {
   "cell_type": "code",
   "execution_count": null,
   "id": "6103fc57",
   "metadata": {},
   "outputs": [],
   "source": [
    "df['labels'].value_counts()"
   ]
  },
  {
   "cell_type": "markdown",
   "id": "66e99310",
   "metadata": {},
   "source": [
    "## Exploratory Data Analysis"
   ]
  },
  {
   "cell_type": "code",
   "execution_count": null,
   "id": "110cb85f",
   "metadata": {},
   "outputs": [],
   "source": [
    "sns.countplot(data=df,x='labels')"
   ]
  },
  {
   "cell_type": "code",
   "execution_count": 4,
   "id": "849dec7a",
   "metadata": {},
   "outputs": [],
   "source": [
    "def waveplot(data,sr,emotion):\n",
    "    plt.figure(figsize=(10,4))\n",
    "    plt.title(emotion,size=20)\n",
    "    librosa.display.waveshow(data,sr=sr)\n",
    "    plt.show()\n",
    "\n",
    "def spectrogram(data,sr,emotion):\n",
    "    x=librosa.stft(data)\n",
    "    xdb=librosa.amplitude_to_db(abs(x))\n",
    "    plt.figure(figsize=(11,4))\n",
    "    plt.title(emotion,size=20)\n",
    "    librosa.display.specshow(xdb,sr=sr,x_axis=\"time\",y_axis=\"hz\")\n",
    "    plt.colorbar()"
   ]
  },
  {
   "cell_type": "code",
   "execution_count": null,
   "id": "fe85d5ff",
   "metadata": {},
   "outputs": [],
   "source": [
    "emotion=\"fear\"\n",
    "path=np.array()"
   ]
  }
 ],
 "metadata": {
  "kernelspec": {
   "display_name": "audio-processing-ml (3.10.18)",
   "language": "python",
   "name": "python3"
  },
  "language_info": {
   "codemirror_mode": {
    "name": "ipython",
    "version": 3
   },
   "file_extension": ".py",
   "mimetype": "text/x-python",
   "name": "python",
   "nbconvert_exporter": "python",
   "pygments_lexer": "ipython3",
   "version": "3.10.18"
  }
 },
 "nbformat": 4,
 "nbformat_minor": 5
}
