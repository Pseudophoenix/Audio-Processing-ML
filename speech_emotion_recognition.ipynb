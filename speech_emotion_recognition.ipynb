{
 "cells": [
  {
   "cell_type": "code",
   "execution_count": 1,
   "id": "4eabea0f",
   "metadata": {},
   "outputs": [],
   "source": [
    "import pandas as pd, numpy as np, os, seaborn as sns, librosa\n",
    "import matplotlib.pyplot as plt"
   ]
  },
  {
   "cell_type": "code",
   "execution_count": 2,
   "id": "b01b4631",
   "metadata": {},
   "outputs": [
    {
     "ename": "ModuleNotFoundError",
     "evalue": "No module named 'torchaudio'",
     "output_type": "error",
     "traceback": [
      "\u001b[1;31m---------------------------------------------------------------------------\u001b[0m",
      "\u001b[1;31mModuleNotFoundError\u001b[0m                       Traceback (most recent call last)",
      "Cell \u001b[1;32mIn[2], line 1\u001b[0m\n\u001b[1;32m----> 1\u001b[0m \u001b[38;5;28;01mimport\u001b[39;00m\u001b[38;5;250m \u001b[39m\u001b[38;5;21;01mtorchaudio\u001b[39;00m\n",
      "\u001b[1;31mModuleNotFoundError\u001b[0m: No module named 'torchaudio'"
     ]
    }
   ],
   "source": [
    "import torchaudio\n"
   ]
  },
  {
   "cell_type": "markdown",
   "id": "936f534a",
   "metadata": {},
   "source": [
    "### Dataset-> Toronto Emotional Speech dataset"
   ]
  },
  {
   "cell_type": "code",
   "execution_count": null,
   "id": "058893bb",
   "metadata": {},
   "outputs": [],
   "source": [
    "paths=[]\n",
    "labels=[]\n",
    "for dirname, _, filenames in os.walk('/path'):\n",
    "    for filename in filenames:\n",
    "        paths.appned(os.path.join(dirname,filename))\n",
    "        label=filename.split('_')[-1]\n",
    "        label=label.split('.')[0]\n",
    "        labels.append(label.lower())\n",
    "    if len(paths)==2800:\n",
    "        break\n",
    "print('Dataset loaded')\n"
   ]
  },
  {
   "cell_type": "code",
   "execution_count": null,
   "id": "0c232307",
   "metadata": {},
   "outputs": [],
   "source": [
    "len(paths)"
   ]
  },
  {
   "cell_type": "code",
   "execution_count": null,
   "id": "c206210a",
   "metadata": {},
   "outputs": [],
   "source": [
    "labels[:5]"
   ]
  },
  {
   "cell_type": "code",
   "execution_count": null,
   "id": "dc035f00",
   "metadata": {},
   "outputs": [],
   "source": [
    "df=pd.DataFrame()"
   ]
  },
  {
   "cell_type": "code",
   "execution_count": null,
   "id": "6103fc57",
   "metadata": {},
   "outputs": [],
   "source": [
    "df['labels'].value_counts()"
   ]
  },
  {
   "cell_type": "markdown",
   "id": "66e99310",
   "metadata": {},
   "source": [
    "## Exploratory Data Analysis"
   ]
  },
  {
   "cell_type": "code",
   "execution_count": null,
   "id": "110cb85f",
   "metadata": {},
   "outputs": [],
   "source": [
    "sns.countplot(data=df,x='labels')"
   ]
  },
  {
   "cell_type": "code",
   "execution_count": 4,
   "id": "849dec7a",
   "metadata": {},
   "outputs": [],
   "source": [
    "def waveplot(data,sr,emotion):\n",
    "    plt.figure(figsize=(10,4))\n",
    "    plt.title(emotion,size=20)\n",
    "    librosa.display.waveshow(data,sr=sr)\n",
    "    plt.show()\n",
    "\n",
    "def spectrogram(data,sr,emotion):\n",
    "    x=librosa.stft(data)\n",
    "    xdb=librosa.amplitude_to_db(abs(x))\n",
    "    plt.figure(figsize=(11,4))\n",
    "    plt.title(emotion,size=20)\n",
    "    librosa.display.specshow(xdb,sr=sr,x_axis=\"time\",y_axis=\"hz\")\n",
    "    plt.colorbar()"
   ]
  },
  {
   "cell_type": "code",
   "execution_count": 5,
   "id": "fe85d5ff",
   "metadata": {},
   "outputs": [
    {
     "ename": "NameError",
     "evalue": "name 'df' is not defined",
     "output_type": "error",
     "traceback": [
      "\u001b[1;31m---------------------------------------------------------------------------\u001b[0m",
      "\u001b[1;31mNameError\u001b[0m                                 Traceback (most recent call last)",
      "Cell \u001b[1;32mIn[5], line 2\u001b[0m\n\u001b[0;32m      1\u001b[0m emotion\u001b[38;5;241m=\u001b[39m\u001b[38;5;124m\"\u001b[39m\u001b[38;5;124mfear\u001b[39m\u001b[38;5;124m\"\u001b[39m\n\u001b[1;32m----> 2\u001b[0m path\u001b[38;5;241m=\u001b[39mnp\u001b[38;5;241m.\u001b[39marray(\u001b[43mdf\u001b[49m[\u001b[38;5;124m'\u001b[39m\u001b[38;5;124maudio_paths\u001b[39m\u001b[38;5;124m'\u001b[39m][df[\u001b[38;5;124m'\u001b[39m\u001b[38;5;124mlabels\u001b[39m\u001b[38;5;124m'\u001b[39m]\u001b[38;5;241m==\u001b[39memotion])[\u001b[38;5;241m0\u001b[39m]\n\u001b[0;32m      3\u001b[0m data,sampling_rate\u001b[38;5;241m=\u001b[39mlibrosa\u001b[38;5;241m.\u001b[39mload(path)\n\u001b[0;32m      4\u001b[0m waveplot(data,sampling_rate,emotion\u001b[38;5;241m=\u001b[39memotion)\n",
      "\u001b[1;31mNameError\u001b[0m: name 'df' is not defined"
     ]
    }
   ],
   "source": [
    "emotion=\"fear\"\n",
    "path=np.array(df['audio_paths'][df['labels']==emotion])[0]\n",
    "data,sampling_rate=librosa.load(path)\n",
    "waveplot(data,sampling_rate,emotion=emotion)\n",
    "spectrogram(data=data,sr=sampling_rate,emotion=emotion)\n",
    "Audio(path)\n"
   ]
  },
  {
   "cell_type": "markdown",
   "id": "e1f8e30d",
   "metadata": {},
   "source": [
    "Create a custom dataset class"
   ]
  },
  {
   "cell_type": "code",
   "execution_count": 6,
   "id": "56e6181d",
   "metadata": {},
   "outputs": [
    {
     "ename": "NameError",
     "evalue": "name 'df' is not defined",
     "output_type": "error",
     "traceback": [
      "\u001b[1;31m---------------------------------------------------------------------------\u001b[0m",
      "\u001b[1;31mNameError\u001b[0m                                 Traceback (most recent call last)",
      "Cell \u001b[1;32mIn[6], line 2\u001b[0m\n\u001b[0;32m      1\u001b[0m \u001b[38;5;66;03m# convert labels to integers\u001b[39;00m\n\u001b[1;32m----> 2\u001b[0m label_map\u001b[38;5;241m=\u001b[39m{label:idx \u001b[38;5;28;01mfor\u001b[39;00m idx, label \u001b[38;5;129;01min\u001b[39;00m \u001b[38;5;28menumerate\u001b[39m(\u001b[43mdf\u001b[49m[\u001b[38;5;124m'\u001b[39m\u001b[38;5;124mlabels\u001b[39m\u001b[38;5;124m'\u001b[39m]\u001b[38;5;241m.\u001b[39munique())}\n",
      "\u001b[1;31mNameError\u001b[0m: name 'df' is not defined"
     ]
    }
   ],
   "source": [
    "# convert labels to integers\n",
    "label_map={label:idx for idx, label in enumerate(df['labels'].unique())}"
   ]
  },
  {
   "cell_type": "code",
   "execution_count": 7,
   "id": "68cc6bc7",
   "metadata": {},
   "outputs": [
    {
     "ename": "NameError",
     "evalue": "name 'inverse_label_map' is not defined",
     "output_type": "error",
     "traceback": [
      "\u001b[1;31m---------------------------------------------------------------------------\u001b[0m",
      "\u001b[1;31mNameError\u001b[0m                                 Traceback (most recent call last)",
      "Cell \u001b[1;32mIn[7], line 1\u001b[0m\n\u001b[1;32m----> 1\u001b[0m \u001b[43minverse_label_map\u001b[49m\n",
      "\u001b[1;31mNameError\u001b[0m: name 'inverse_label_map' is not defined"
     ]
    }
   ],
   "source": [
    "inverse_label_map"
   ]
  },
  {
   "cell_type": "code",
   "execution_count": null,
   "id": "5ff101b5",
   "metadata": {},
   "outputs": [],
   "source": []
  }
 ],
 "metadata": {
  "kernelspec": {
   "display_name": "audio-processing-ml (3.10.18)",
   "language": "python",
   "name": "python3"
  },
  "language_info": {
   "codemirror_mode": {
    "name": "ipython",
    "version": 3
   },
   "file_extension": ".py",
   "mimetype": "text/x-python",
   "name": "python",
   "nbconvert_exporter": "python",
   "pygments_lexer": "ipython3",
   "version": "3.10.18"
  }
 },
 "nbformat": 4,
 "nbformat_minor": 5
}
