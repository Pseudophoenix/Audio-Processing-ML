{
 "cells": [
  {
   "cell_type": "code",
   "execution_count": 3,
   "id": "4eabea0f",
   "metadata": {},
   "outputs": [
    {
     "ename": "ModuleNotFoundError",
     "evalue": "No module named 'librosa'",
     "output_type": "error",
     "traceback": [
      "\u001b[31m---------------------------------------------------------------------------\u001b[39m",
      "\u001b[31mModuleNotFoundError\u001b[39m                       Traceback (most recent call last)",
      "\u001b[36mCell\u001b[39m\u001b[36m \u001b[39m\u001b[32mIn[3]\u001b[39m\u001b[32m, line 1\u001b[39m\n\u001b[32m----> \u001b[39m\u001b[32m1\u001b[39m \u001b[38;5;28;01mimport\u001b[39;00m\u001b[38;5;250m \u001b[39m\u001b[34;01mpandas\u001b[39;00m,\u001b[38;5;250m \u001b[39m\u001b[34;01mnumpy\u001b[39;00m,\u001b[38;5;250m \u001b[39m\u001b[34;01mos\u001b[39;00m,\u001b[38;5;250m \u001b[39m\u001b[34;01mseaborn\u001b[39;00m,\u001b[38;5;250m \u001b[39m\u001b[34;01mlibrosa\u001b[39;00m\n",
      "\u001b[31mModuleNotFoundError\u001b[39m: No module named 'librosa'"
     ]
    }
   ],
   "source": [
    "import pandas, numpy, os, seaborn, librosa"
   ]
  },
  {
   "cell_type": "code",
   "execution_count": 4,
   "id": "b01b4631",
   "metadata": {},
   "outputs": [
    {
     "ename": "ModuleNotFoundError",
     "evalue": "No module named 'torchaudio'",
     "output_type": "error",
     "traceback": [
      "\u001b[31m---------------------------------------------------------------------------\u001b[39m",
      "\u001b[31mModuleNotFoundError\u001b[39m                       Traceback (most recent call last)",
      "\u001b[36mCell\u001b[39m\u001b[36m \u001b[39m\u001b[32mIn[4]\u001b[39m\u001b[32m, line 1\u001b[39m\n\u001b[32m----> \u001b[39m\u001b[32m1\u001b[39m \u001b[38;5;28;01mimport\u001b[39;00m\u001b[38;5;250m \u001b[39m\u001b[34;01mtorchaudio\u001b[39;00m\n",
      "\u001b[31mModuleNotFoundError\u001b[39m: No module named 'torchaudio'"
     ]
    }
   ],
   "source": [
    "import torchaudio\n"
   ]
  },
  {
   "cell_type": "markdown",
   "id": "936f534a",
   "metadata": {},
   "source": [
    "### Dataset-> Toronto Emotional Speech dataset"
   ]
  },
  {
   "cell_type": "code",
   "execution_count": null,
   "id": "058893bb",
   "metadata": {},
   "outputs": [],
   "source": [
    "paths=[]\n",
    "labels=[]\n",
    "for dirname, _, filenames in os.walk('/path'):\n",
    "    for filename in filenames:\n",
    "        paths.appned(os.path.join(dirname,filename))\n",
    "        label=filename.split('_')[-1]\n",
    "        label=label.split('.')[0]\n",
    "        labels.append(label.lower())\n",
    "    if len(paths)==2800:\n",
    "        break\n",
    "print('Dataset loaded')\n"
   ]
  },
  {
   "cell_type": "code",
   "execution_count": null,
   "id": "0c232307",
   "metadata": {},
   "outputs": [],
   "source": [
    "len(paths)"
   ]
  }
 ],
 "metadata": {
  "kernelspec": {
   "display_name": "audio-processing-ml (3.13.5)",
   "language": "python",
   "name": "python3"
  },
  "language_info": {
   "codemirror_mode": {
    "name": "ipython",
    "version": 3
   },
   "file_extension": ".py",
   "mimetype": "text/x-python",
   "name": "python",
   "nbconvert_exporter": "python",
   "pygments_lexer": "ipython3",
   "version": "3.13.5"
  }
 },
 "nbformat": 4,
 "nbformat_minor": 5
}
